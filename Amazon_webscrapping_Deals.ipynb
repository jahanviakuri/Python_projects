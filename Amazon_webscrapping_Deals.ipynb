{
 "cells": [
  {
   "cell_type": "code",
   "execution_count": null,
   "id": "0db50edb",
   "metadata": {},
   "outputs": [],
   "source": [
    "from bs4 import BeautifulSoup\n",
    "import requests\n",
    "import time\n",
    "\n",
    "import pandas as pd\n",
    "\n",
    "import smtplib"
   ]
  },
  {
   "cell_type": "code",
   "execution_count": null,
   "id": "73b14f79",
   "metadata": {},
   "outputs": [],
   "source": [
    "url='https://www.amazon.ca/kate-spade-handbag-crossbody-Meringue/dp/B0C4HT8MF1/ref=sr_1_49?crid=11J0KQ8JQ1B46&keywords=kate%2Bspade%2Bhandbags%2Bfor%2Bwomen&qid=1704417996&sprefix=kate%2B%2Caps%2C128&sr=8-49&th=1'\n",
    "# headers=\"User-Agent\": \"Mozilla/5.0 (Windows NT 10.0; Win64; x64) AppleWebKit/537.36 (KHTML, like Gecko) Chrome/120.0.0.0 Safari/537.36\" get this by browsing (https://httpbin.org/get)\n",
    "    \n",
    "headers = {\"User-Agent\": \"Mozilla/5.0 (Windows NT 10.0; Win64; x64) AppleWebKit/537.36 (KHTML, like Gecko)  Chrome/120.0.0.0 Safari/537.36\", \"Accept-Encoding\":\"gzip, deflate\", \"Accept\":\"text/html,application/xhtml+xml,application/xml;q=0.9,*/*;q=0.8\", \"DNT\":\"1\",\"Connection\":\"close\", \"Upgrade-Insecure-Requests\":\"1\"}\n"
   ]
  },
  {
   "cell_type": "code",
   "execution_count": null,
   "id": "b9c05306",
   "metadata": {},
   "outputs": [],
   "source": [
    "path=requests.get(url,headers=headers)\n",
    "soup1=BeautifulSoup(path.content,'html.parser')\n",
    "soup2=BeautifulSoup(soup1.prettify(),'html.parser')\n",
    "\n",
    "product_title=soup2.find(id='productTitle').text.strip()\n",
    "print(product_title)\n",
    "price=soup2.find(class_='a-price-whole').text.strip()\n",
    "print(price)"
   ]
  },
  {
   "cell_type": "code",
   "execution_count": 25,
   "id": "7bed91e1",
   "metadata": {},
   "outputs": [
    {
     "name": "stdout",
     "output_type": "stream",
     "text": [
      "2024-01-04\n"
     ]
    }
   ],
   "source": [
    "import datetime\n",
    "today=datetime.date.today()\n",
    "print(today)"
   ]
  },
  {
   "cell_type": "code",
   "execution_count": 30,
   "id": "6c706703",
   "metadata": {},
   "outputs": [],
   "source": [
    "import csv\n",
    "header=['Product_title','price','date']\n",
    "data=[product_title,price,today]\n",
    "\n"
   ]
  },
  {
   "cell_type": "code",
   "execution_count": 32,
   "id": "68f073fc",
   "metadata": {},
   "outputs": [],
   "source": [
    "with open('AmazonDealScraper.csv','w',newline='',encoding='UTF8') as f:\n",
    "    writer=csv.writer(f)\n",
    "    writer.writerow(header)\n",
    "    writer.writerow(data)\n",
    "#to append data rows we use a+ appends data to next free row\n",
    "    "
   ]
  },
  {
   "cell_type": "code",
   "execution_count": null,
   "id": "7e97a33a",
   "metadata": {},
   "outputs": [],
   "source": [
    "def check_deals():\n",
    "    url='https://www.amazon.ca/kate-spade-handbag-crossbody-Meringue/dp/B0C4HT8MF1/ref=sr_1_49?crid=11J0KQ8JQ1B46&keywords=kate%2Bspade%2Bhandbags%2Bfor%2Bwomen&qid=1704417996&sprefix=kate%2B%2Caps%2C128&sr=8-49&th=1'\n",
    "# headers=\"User-Agent\": \"Mozilla/5.0 (Windows NT 10.0; Win64; x64) AppleWebKit/537.36 (KHTML, like Gecko) Chrome/120.0.0.0 Safari/537.36\" get this by browsing (https://httpbin.org/get)\n",
    "    \n",
    "    headers = {\"User-Agent\": \"Mozilla/5.0 (Windows NT 10.0; Win64; x64) AppleWebKit/537.36 (KHTML, like Gecko)  Chrome/120.0.0.0 Safari/537.36\", \"Accept-Encoding\":\"gzip, deflate\", \"Accept\":\"text/html,application/xhtml+xml,application/xml;q=0.9,*/*;q=0.8\", \"DNT\":\"1\",\"Connection\":\"close\", \"Upgrade-Insecure-Requests\":\"1\"}\n",
    "    path=requests.get(url,headers=headers)\n",
    "    soup1=BeautifulSoup(path.content,'html.parser')\n",
    "    soup2=BeautifulSoup(soup1.prettify(),'html.parser')\n",
    "    product_title=soup2.find(id='productTitle').text.strip()\n",
    "    price=soup2.find(class_='a-price-whole').text.strip()\n",
    "    import datetime\n",
    "    today=datetime.date.today()\n",
    "    import csv\n",
    "    header=['Product_title','price','date']\n",
    "    data=[product_title,price,today]\n",
    "    with open('AmazonDealScraper.csv','a+',newline='',encoding='UTF8') as f:\n",
    "        writer=csv.writer(f)\n",
    "        writer.writerow(data)\n",
    "    if(price<100):\n",
    "        sendmail()\n",
    "\n",
    "    "
   ]
  },
  {
   "cell_type": "code",
   "execution_count": null,
   "id": "0a2b57a5",
   "metadata": {},
   "outputs": [],
   "source": [
    "#while(True):\n",
    " #   check_deals()\n",
    "  #  time.sleep(86400) #24hrs have these many seconds"
   ]
  },
  {
   "cell_type": "code",
   "execution_count": null,
   "id": "57d9202e",
   "metadata": {},
   "outputs": [],
   "source": [
    "df=pd.read_csv(r\"C:\\Users\\Jahnavi\\AmazonDealScraper.csv\")\n",
    "print(df)"
   ]
  },
  {
   "cell_type": "code",
   "execution_count": null,
   "id": "a0893048",
   "metadata": {},
   "outputs": [],
   "source": [
    "def send_mail():\n",
    "    server = smtplib.SMTP_SSL('smtp.gmail.com',465)\n",
    "    server.ehlo()\n",
    "    #server.starttls()\n",
    "    server.ehlo()\n",
    "    server.login('akurijahnavi@gmail.com','janunov24')\n",
    "    \n",
    "    subject = \"The bag you want is below $100! Now is your chance to buy!\"\n",
    "    body = \"Janu, This is the moment we have been waiting for. Now is your chance to pick up the katespade bag  of your dreams.link:https://www.amazon.ca/kate-spade-handbag-crossbody-Meringue/dp/B0C4HT8MF1/ref=sr_1_49?crid=11J0KQ8JQ1B46&keywords=kate%2Bspade%2Bhandbags%2Bfor%2Bwomen&qid=1704417996&sprefix=kate%2B%2Caps%2C128&sr=8-49&th=1\"\n",
    " \n",
    "    msg = f\"Subject: {subject}\\n\\n{body}\"\n",
    "    \n",
    "    server.sendmail(\n",
    "        'akurijahnavi@gmail.com',\n",
    "        msg\n",
    "     \n",
    "    )"
   ]
  },
  {
   "cell_type": "code",
   "execution_count": null,
   "id": "95f3b9d3",
   "metadata": {},
   "outputs": [],
   "source": []
  },
  {
   "cell_type": "code",
   "execution_count": null,
   "id": "ccefc2bc",
   "metadata": {},
   "outputs": [],
   "source": []
  },
  {
   "cell_type": "code",
   "execution_count": null,
   "id": "1d3a5c78",
   "metadata": {},
   "outputs": [],
   "source": []
  }
 ],
 "metadata": {
  "kernelspec": {
   "display_name": "Python 3 (ipykernel)",
   "language": "python",
   "name": "python3"
  },
  "language_info": {
   "codemirror_mode": {
    "name": "ipython",
    "version": 3
   },
   "file_extension": ".py",
   "mimetype": "text/x-python",
   "name": "python",
   "nbconvert_exporter": "python",
   "pygments_lexer": "ipython3",
   "version": "3.11.5"
  }
 },
 "nbformat": 4,
 "nbformat_minor": 5
}
