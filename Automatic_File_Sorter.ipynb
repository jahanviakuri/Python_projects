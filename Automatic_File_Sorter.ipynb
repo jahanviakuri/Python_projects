{
 "cells": [
  {
   "cell_type": "code",
   "execution_count": 11,
   "id": "535423e8",
   "metadata": {},
   "outputs": [],
   "source": [
    "import os,shutil"
   ]
  },
  {
   "cell_type": "code",
   "execution_count": 22,
   "id": "89279d28",
   "metadata": {},
   "outputs": [],
   "source": [
    "path='C:/Users/Jahnavi/Downloads/'"
   ]
  },
  {
   "cell_type": "code",
   "execution_count": 23,
   "id": "dfa0d1e9",
   "metadata": {},
   "outputs": [],
   "source": [
    "list_of_files=os.listdir(path)"
   ]
  },
  {
   "cell_type": "code",
   "execution_count": 24,
   "id": "fce97601",
   "metadata": {},
   "outputs": [
    {
     "name": "stdout",
     "output_type": "stream",
     "text": [
      "['.ipynb_checkpoints', '1,4-DIOXANE_INTERAGENCY_SCIENCE_DISCUSSION_DRAFT_IRIS_SUMMARY (1).PDF', '1,4-DIOXANE_INTERAGENCY_SCIENCE_DISCUSSION_DRAFT_IRIS_SUMMARY.PDF', '10.1186_s12940-016-0172-6-citation.ris', '2022-2023 GSA Bursary Blackbaud worksheet.xlsx', '2382880.pdf', '28516221.docx', '2s.plecs', '3334-tier3_infographic_eng_010_page-0001.jpg', '39767db4.docx', '603 project1.docx', '603 project1.pdf', '6_2020_07_03!08_02_51_PM.pptx', 'Academic Integrity is applying.docx', 'AccessDatabaseEngine (1).exe', 'AccessDatabaseEngine.exe', 'adhar,passport and pan.pdf', 'agaricus-lepiota (1).names', 'agaricus-lepiota.data', 'agaricus-lepiota.names', 'Agent.zip', 'AgentDatabase.zip', 'agent_universitieslist.sql', 'agent_userdata.sql', 'air_assignment2.pdf', 'Anaconda3-2022.10-Windows-x86_64.exe', 'Anaconda3-2023.09-0-Windows-x86_64.exe', 'Apocolypse Food Prep - DAX Tutorial (1).xlsx', 'Application_Ranking (1).ipynb', 'Application_Ranking.ipynb', 'Application_Ranking_report_final 2 (1).docx', 'Application_Ranking_report_final 2.docx', 'Application_Ranking_report_final.docx', 'archive', 'archive (1).zip', 'archive (2)', 'archive (2).zip', 'archive (3)', 'archive (3).zip', 'archive.zip', 'assign1-pandas-auto_mpg.ipynb', 'assign1-pandas.ipynb', 'assign1-visualization-auto_mpg.ipynb', 'assign1_chicken.ipynb', 'assign2_30180821[1] (1).pdf', 'assign2_30180821[1].pdf', 'Assignment-2 (1).pdf', 'Assignment-2.pdf', 'Assignment1- air pollution (30180821).pdf', 'Assignment2 (1).ipynb', 'Assignment2 (2).ipynb', 'Assignment2 (3).ipynb', 'Assignment2.ipynb', 'Assignment2_(2).ipynb', 'Assignment3-1 (1).ipynb', 'Assignment3-1 (2).ipynb', 'Assignment3-1 (3).ipynb', 'Assignment3-1.ipynb', 'Assignment3-2 (1).ipynb', 'Assignment3-2 (2) (1).ipynb', 'Assignment3-2 (2).ipynb', 'Assignment3-2 (3).ipynb', 'Assignment3-2 (4).ipynb', 'Assignment3-2.ipynb', 'Assignment3-2_final (1).ipynb', 'Assignment3-2_final.ipynb', 'Assignment4 (1) (1).ipynb', 'Assignment4 (1).ipynb', 'Assignment4 (2).ipynb', 'Assignment4 (3).ipynb', 'Assignment4.ipynb', 'Assignment4_SUSIL.ipynb', 'Assignment5 (1).pdf', 'Assignment5.pdf', 'Assignment_machine.ipynb', 'AuthorizationAgent (1).java', 'AuthorizationAgent (2).java', 'AuthorizationAgent (3).java', 'AuthorizationAgent.java', 'auto-mpg.names', 'BANK OF AMERICA OPERATING MODEL.docx', 'Binary_classification.ipynb', 'cal 7 8 .docx', 'Calculation word.docx', 'calculations_final.docx', 'Cancelled_cheque.pdf', 'Carbon Monoxide Query Result Chart.png', 'CARTJ-48GRAFTJ48ID3.pdf', 'chromedriver_win32', 'ClassifierAgent (1).java', 'ClassifierAgent (2).java', 'ClassifierAgent.java', 'Clustering.pdf', 'co2_steps.jpg', 'ColumnTransformer.ipynb', 'CompareAgent (1).java', 'CompareAgent.java', 'Constants (1).java', 'Constants.java', 'conventional.jpg', 'course-downloads.zip', 'CSV_FILES', 'CSV_FILESCSV_FILES2310006701-noSymbol.csv', 'CSV_FILESCSV_FILEScalendar.csv.gz', 'CSV_FILESCSV_FILESCalgary Central Inglewood.csv', 'CSV_FILESCSV_FILESCalgary Varsity (1).csv', 'CSV_FILESCSV_FILESCalgary Varsity (2).csv', 'CSV_FILESCSV_FILESCalgary Varsity (3).csv', 'CSV_FILESCSV_FILESCalgary Varsity.csv', 'CSV_FILESCSV_FILESCO2 Emissions_Canada.csv', 'CSV_FILESCSV_FILESData from marketing team - Raw Data.csv', 'CSV_FILESCSV_FILESjanu_dev_credentials.csv', 'CSV_FILESCSV_FILESlistings.csv.gz', 'CSV_FILESCSV_FILESproject_data.csv', 'CSV_FILESCSV_FILESproject_final_data.csv', 'CSV_FILESCSV_FILESreviews.csv.gz', 'CSV_FILESCSV_FILESSales.csv', 'CSV_FILESCSV_FILESSales.csv.zip', 'CSV_FILESCSV_FILESUpdatedResumeDataSet.csv.zip', 'CSV_FILESCSV_FILESveh18.csv', 'cvMail-A8848B0F-DBFD-4FED-8252184030F14362.rtf', 'Data Base Management Systems.jpg', 'data_marketing.xlsx', 'Design Document - Group# 11 - SENG 696 (2).pdf', 'Design Document - Group# 11 - SENG 696 _datachanged.docx', 'Design Document - Group# 11 - SENG 696.pdf', 'desktop.ini', 'DinitrotolueneTechnicalgrade.pdf', 'DOC-20230617-WA0004..pdf', 'DOC-20230804-WA0008_', 'DOC-20230804-WA0008_ (1)', 'DocScanner 10 Oct 2023 6-24 pm.pdf', 'DocScanner 24 Nov 2023 5-29 pm.pdf', 'download.pdf', 'E7905068519.pdf', 'EC2-DEFAULT.pem', 'eclipse-jee-neon-3-win32-x86_64.zip', 'eclipse-jee-neon-R-win32-x86_64.zip', 'EL FC Form.docx', 'EL FC Form.pdf', 'Electric Vehicles ENEN (1).docx', 'Electric Vehicles ENEN.docx', 'EmeraldInsight_citations_20231125013856.ris', 'ENB2012_data (1).xlsx', 'ENB2012_data (2).xlsx', 'ENB2012_data.xlsx', 'ENEL 625 Estimation Theory Project.docx', 'ENEL625_MidtermSolutions_KevalPatel_3010.pdf', 'ENEL672_W2023_Assignment1 (1) (1).pdf', 'ENEL672_W2023_Assignment1 (1) (2).pdf', 'ENEL672_W2023_Assignment1 (1).pdf', 'ENEL672_W2023_Assignment1 (2).pdf', 'ENEL672_W2023_Assignment1 (3).pdf', 'ENEL672_W2023_Assignment1.pdf', 'ENEL682 Project (1).pdf', 'ENEN 603 L01 - (Fall 2023) - Principles Of Environmental Engineering - 10312023 - 402 PM', 'ENEN 603 L01 - (Fall 2023) - Principles Of Environmental Engineering - 10312023 - 402 PM.zip', 'ENEn 671 (1).docx', 'ENEn 671.docx', 'ENEN 697 ENCH 643 L01 - (Fall 2023) - Air Pollution Mitigation for Environmental Engineers - 10242023 - 609 PM.zip', 'ENEN-603_MIDTERM_JAINIL_PATHAK.pdf', 'energy.docx', 'ENGG 682 F2022 Individual Assignment Template.docx', 'Example - Term paper report.pdf', 'EXCEL_FILES', 'f10a880a.docx', 'fair-entry-fee-reduction-application.pdf', 'Fall 2023 ENCH 643 ENEN 697 - Assignment 1.pdf', 'Final (1).pptx', 'final.docx', 'Final.pptx', 'Fine Particulate Matter Query Result Chart.png', 'GC00000400VSR00                                    (1).pdf', 'Git-2.38.1-64-bit.exe', 'Graded_Lab_2_Group_number_11.ipynb', 'GrammarlyInstaller.cmXcq00fdbtm7ot750tp0702.exe', 'hadi answrers.pdf', 'heavymetalkhoramabad-main.pdf', 'Hetalben_Virani.pdf', 'httpwww_bg_utp_edu_plartsilniki20spalinowe2011walsh.pdf', 'ilovepdf_converted.zip', 'ilovepdf_merged.pdf', 'InterfaceAgent (1).java', 'InterfaceAgent (2).java', 'InterfaceAgent (3).java', 'InterfaceAgent (4).java', 'InterfaceAgent (5).java', 'InterfaceAgent (6).java', 'InterfaceAgent (7).java', 'InterfaceAgent (8).java', 'InterfaceAgent.java', 'internship_mHackathon-master', 'internship_mHackathon-master.zip', 'internship_mHackathon-mHack_backend.zip', 'IPYNB_FILES', 'IRJET-A. Jahnavi.jpg', 'IRJET-paper.doc', 'jade.zip', 'JadeUPHF.jar', 'jahanvai_professional_resume (1) (1).pdf', 'jahanvai_professional_resume (1).pdf', 'jahanvai_professional_resume.pdf', 'Jahnavi Akuri _Coverletter (1).pdf', 'Jahnavi Akuri _Coverletter.pdf', 'Jahnavi Akuri _Intern_Resume (1).pdf', 'Jahnavi Akuri _Intern_Resume.pdf', 'Jahnavi Akuri_KPMG_cover letter.pdf', 'Jahnavi Akuri_S&P_cover letter.pdf', 'jahnavi.akuri_SOP-converted.docx', 'jahnavi.akuri_SOP.pdf', 'jahnavi_final_visa_SOP.docx', 'jahnavi_icic_cheques.pdf', 'jahnavi_internship_resume.pdf', 'jahnavi_professional_resume.pdf', 'Jahnavi_resume_latest.pdf', 'janu_adhar.pdf', 'Jay Kanabar - Cover Letter.docx', 'Jay Kanabar - Cover Letter.pdf', 'Jay Kanabar.docx', 'Jay Kanabar.pdf', 'jdk-18.0.2.1_windows-x64_bin.exe', 'jre-8u351-windows-x64.exe', 'K-NN and GNB.ipynb', 'Klin process.drawio (1).png', 'L5.pdf', 'L5_L6_merged.pdf', 'L6.pdf', 'Lab report (1) (1).docx', 'Lab report (1).docx', 'Lab report- assignment2.xlsx', 'Lecture 08 Fall 2023.pdf', 'lecture01_merged.pdf', 'license.lic', 'Linear_ex.ipynb', 'LoginFrame (1).java', 'LoginFrame.java', 'lombok.jar', 'Machine Learning Project Proposal-682.pdf', 'MachineLearning_ProjectProposal-682 (1).pdf', 'MachineLearning_ProjectProposal-682.docx', 'MakerAgent (1).java', 'MakerAgent (2).java', 'MakerAgent.java', 'Mech to CS SOP4.docx', 'Mech to CS SOP5.docx', 'Mech to CS SOP6.pdf', 'merged.pdf', 'merged_resume_transcript.pdf', 'ML (1).docx', 'ML.docx', 'MLProject_Report_ApplicationRanking (1).pdf', 'MLProject_Report_ApplicationRanking.pdf', 'naveen _resume.docx', 'naveen _resume_final.docx', 'naveen _resume_final.pdf', 'Naveen_ijju_final_SOP.pdf', 'naveen_sop.docx', 'New Microsoft Word Document.docx', 'NutriVision-main.zip', 'nz3c01211_si_001.pdf', 'nz3c01668_si_001.pdf', 'Obesity (3).ipynb', 'Obesity.ipynb', 'Ozone Query Result Chart.png', 'pancard.pdf', 'PDF_FILES', 'Pipelines.pdf', 'plecs-standalone-4-6-8_win64.exe', 'Power BI - Final Project (1).xlsx', 'power.docx', 'Project selection and Group - ENEN 697.pdf', 'project_final_data (1).xlsx', 'project_final_data (2).xlsx', 'project_final_data.xlsx', 'PS-OUTBOUND-TAXCERT_00785602 (1).pdf', 'PS-OUTBOUND-TAXCERT_00785602.pdf', 'python-3.11.1-amd64 (1).exe', 'python-3.11.1-amd64.exe', 'q-9.pdf', 'Question 9.docx', 'Question 9.pdf', 'quiz 2.pdf', 'RangeTest (1).java', 'RangeTest (2).java', 'RangeTest.java', 'Receipt.pdf', 'reflection susil.docx', 'reflection susil.pdf', 'reflection.docx', 'RegisterFrame (1).java', 'RegisterFrame.java', 'report-2022 (4).docx', 'report-2022.docx', 'repository.zip', 'Resume_MAR_2023_PT_1.pdf', 'resume_transcript.pdf', 'RUPESH SOP CS.docx', 's3 (1).zip', 's3.zip', 'Sample Resume 2.docx', 'Sample Resume.docx', 'Scaling-Solution.ipynb', 'Scaling.ipynb', 'Screenshot 2023-11-16 194754.png', 'Screenshot 2023-12-08 144308.png', 'Screenshot 2023-12-08 144726.png', 'Screenshot 2023-12-08 154447.png', 'Screenshot 2023-12-08 155804.png', 'selenium-server-4.7.0', 'seng637-a1-artifacts.zip', 'seng637-a1-JahnaviAkuri-main.zip', 'seng637-a2-artifacts', 'seng637-a2-artifacts.zip', 'SENG637-A2.pptx', 'seng637-a3-artifacts', 'seng637-a3-artifacts.zip', 'SENG637_a1_SUT.xlsx', 'SENG637_A3_DU.xlsx', 'SENG_637_Assign4.side', 'ServiceAgent.java', 'soap2day.apk', 'Solar energy, wind energy and hydrogen_7th Dec.docx', 'Solutions_Manual.docx', 'Solutions_Manual.oxps', 'Solutions_Manual.pdf', 'Solutions_Manual_for (2).pdf', 'SourcetreeEnterpriseSetup_3.4.10.msi', 'spambase.data', 'spambase.names', 'Tableau Full Project.xlsx', 'Tableau Full Project.xlsx (1).zip', 'Tableau Full Project.xlsx.zip', 'Tableau Joins File.xlsx', 'TableauPublicDesktop-64bit-2023-3-0.exe', 'tableConvert.com_6w3tyu.xlsx', 'Testing_Air_Quality_kel (1) (1).ipynb', 'Testing_Air_Quality_kel (1).ipynb', 'The_rhesus_monkey_in_toxicological_studies.pdf', 'transcript_Sem1.pdf', 'UNCC DSBA SOP Hemanth.pdf', 'Unit1-Intro_to_sysid-Cycle.ipynb', 'Unit2-FRF (1).ipynb', 'Unit2-FRF.ipynb', 'Unit2-periodic-excitation.ipynb', 'Untitled Diagram.drawio', 'Untitled Diagram.drawio.pdf', 'Untitled.ipynb', 'urban smog-part 1.PDF', 'UserDetailsDTO (1).java', 'UserDetailsDTO (2).java', 'UserDetailsDTO.java', 'video1750850804 (1).mp4', 'video1750850804.mp4', 'w01-1-filled.ipynb', 'w01-pandas-wine-filled.ipynb', 'w03-1.ipynb', 'w03-2.ipynb', 'Webscraping_python.ipynb', 'WhatsApp Image 2023-12-13 at 18.04.47_9f8a1dbb.jpg', 'WORD_FILES', 'Zoom_cm_fo42pnktZ9vvrZo4_m-FV5TGdKFPtjscUSBpXBElsRQBEM5a+0Y8O1@9RypRv1hfI49-fZg_k6710da0f570ee8fe_.exe', '_ Quiz 2 - ENGG 683 L01 - (Winter 2023) - Innovation and Entrepreneurship - University of Calgary (1).pdf', '_ Quiz 2 - ENGG 683 L01 - (Winter 2023) - Innovation and Entrepreneurship - University of Calgary.pdf', '__MACOSX', '{58f1c207-32d1-4c60-9534-9906c6755b98}_{4073af99-ecf4-41d5-b693-56e01c27d313}', '~WRL1272.tmp']\n"
     ]
    }
   ],
   "source": [
    "print(list_of_files)"
   ]
  },
  {
   "cell_type": "code",
   "execution_count": 25,
   "id": "e7602853",
   "metadata": {},
   "outputs": [],
   "source": [
    "folder_names=['PDF_FILES','EXCEL_FILES','WORD_FILES','CSV_FILES','IPYNB_FILES']"
   ]
  },
  {
   "cell_type": "code",
   "execution_count": 27,
   "id": "9cd00729",
   "metadata": {},
   "outputs": [],
   "source": [
    "#creating folders if not exists in the given path\n",
    "\n",
    "for i in folder_names:\n",
    "    if not os.path.exists(path+i):\n",
    "        os.makedirs(path+i)"
   ]
  },
  {
   "cell_type": "code",
   "execution_count": 31,
   "id": "374826ce",
   "metadata": {},
   "outputs": [],
   "source": [
    "#seggregating the files into each folder\n",
    "\n",
    "for file in list_of_files:\n",
    "    if \".csv\" in file and not os.path.exists(path + \"CSV_FILES/\" +file):\n",
    "        shutil.move(path+file,path+\"CSV_FILES/\"+file)\n",
    "    if \".pdf\" in file and not os.path.exists(path + \"PDF_FILES/\" +file):\n",
    "        shutil.move(path+file,path+\"PDF_FILES/\"+file)\n",
    "    if \".ipynb\" in file and not os.path.exists(path + \"IPYNB_FILES/\" +file):\n",
    "        shutil.move(path+file,path+\"IPYNB_FILES/\"+file)\n",
    "    if \".docx\" in file and not os.path.exists(path + \"WORD_FILES/\" +file):\n",
    "        shutil.move(path+file,path+\"WORD_FILES/\"+file)\n",
    "    if \".xlsx\" in file and not os.path.exists(path + \"EXCEL_FILES/\" +file):\n",
    "        shutil.move(path+file,path+\"EXCEl_FILES/\"+file)"
   ]
  },
  {
   "cell_type": "code",
   "execution_count": null,
   "id": "a7dd6066",
   "metadata": {},
   "outputs": [],
   "source": []
  }
 ],
 "metadata": {
  "kernelspec": {
   "display_name": "Python 3 (ipykernel)",
   "language": "python",
   "name": "python3"
  },
  "language_info": {
   "codemirror_mode": {
    "name": "ipython",
    "version": 3
   },
   "file_extension": ".py",
   "mimetype": "text/x-python",
   "name": "python",
   "nbconvert_exporter": "python",
   "pygments_lexer": "ipython3",
   "version": "3.11.5"
  }
 },
 "nbformat": 4,
 "nbformat_minor": 5
}
